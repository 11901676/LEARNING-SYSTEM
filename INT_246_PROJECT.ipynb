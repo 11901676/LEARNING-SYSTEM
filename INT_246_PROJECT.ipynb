{
  "nbformat": 4,
  "nbformat_minor": 0,
  "metadata": {
    "colab": {
      "name": "INT 246 PROJECT",
      "provenance": [],
      "toc_visible": true,
      "authorship_tag": "ABX9TyM5YGb5pMQ8fswXms8NZ2Mn",
      "include_colab_link": true
    },
    "kernelspec": {
      "name": "python3",
      "display_name": "Python 3"
    },
    "language_info": {
      "name": "python"
    }
  },
  "cells": [
    {
      "cell_type": "markdown",
      "metadata": {
        "id": "view-in-github",
        "colab_type": "text"
      },
      "source": [
        "<a href=\"https://colab.research.google.com/github/11901676/LEARNING-SYSTEM/blob/master/INT_246_PROJECT.ipynb\" target=\"_parent\"><img src=\"https://colab.research.google.com/assets/colab-badge.svg\" alt=\"Open In Colab\"/></a>"
      ]
    },
    {
      "cell_type": "code",
      "metadata": {
        "id": "6PnwNFcJ-c6E"
      },
      "source": [
        "import tensorflow.keras"
      ],
      "execution_count": null,
      "outputs": []
    },
    {
      "cell_type": "code",
      "metadata": {
        "id": "8MTUPkLaBSom"
      },
      "source": [
        "from tensorflow.keras.datasets import mnist"
      ],
      "execution_count": null,
      "outputs": []
    },
    {
      "cell_type": "code",
      "metadata": {
        "id": "WI7I-4-dBVGx"
      },
      "source": [
        "from tensorflow.keras.models import Sequential"
      ],
      "execution_count": null,
      "outputs": []
    },
    {
      "cell_type": "code",
      "metadata": {
        "id": "U0jDjKv_CrJO"
      },
      "source": [
        "from tensorflow.keras.utils import to_categorical"
      ],
      "execution_count": null,
      "outputs": []
    },
    {
      "cell_type": "code",
      "metadata": {
        "id": "kVlQZa3VBX0e"
      },
      "source": [
        "from tensorflow.keras.layers import Dense, Dropout, Flatten"
      ],
      "execution_count": null,
      "outputs": []
    },
    {
      "cell_type": "code",
      "metadata": {
        "id": "WhUiwrZgBcWM"
      },
      "source": [
        "from tensorflow.keras.layers import Conv2D, MaxPooling2D"
      ],
      "execution_count": null,
      "outputs": []
    },
    {
      "cell_type": "code",
      "metadata": {
        "id": "ghC6k7P1QRDf"
      },
      "source": [
        "from keras import backend as K"
      ],
      "execution_count": null,
      "outputs": []
    },
    {
      "cell_type": "code",
      "metadata": {
        "id": "ulBoF-1iBckG"
      },
      "source": [
        "(x_train, y_train), (x_test, y_test) = mnist.load_data()"
      ],
      "execution_count": null,
      "outputs": []
    },
    {
      "cell_type": "code",
      "metadata": {
        "colab": {
          "base_uri": "https://localhost:8080/"
        },
        "id": "N0c4zu5XBcnJ",
        "outputId": "c222ed81-d58b-452e-bab6-2600b41ff264"
      },
      "source": [
        "print(x_train.shape, y_train.shape)"
      ],
      "execution_count": null,
      "outputs": [
        {
          "output_type": "stream",
          "name": "stdout",
          "text": [
            "(60000, 28, 28) (60000,)\n"
          ]
        }
      ]
    },
    {
      "cell_type": "code",
      "metadata": {
        "id": "mpYlZhFRBcsO"
      },
      "source": [
        "x_train = x_train.reshape(x_train.shape[0], 28, 28, 1)"
      ],
      "execution_count": null,
      "outputs": []
    },
    {
      "cell_type": "code",
      "metadata": {
        "id": "Wo-9WNR_BcwW"
      },
      "source": [
        "x_test = x_test.reshape(x_test.shape[0], 28, 28, 1)\n"
      ],
      "execution_count": null,
      "outputs": []
    },
    {
      "cell_type": "code",
      "metadata": {
        "id": "8GuA-Y3jBcze"
      },
      "source": [
        "input_shape = (28, 28, 1)\n"
      ],
      "execution_count": null,
      "outputs": []
    },
    {
      "cell_type": "code",
      "metadata": {
        "id": "xwgCi8NGBc2l"
      },
      "source": [
        "y_train = tensorflow.keras.utils.to_categorical(y_train, 10)"
      ],
      "execution_count": null,
      "outputs": []
    },
    {
      "cell_type": "code",
      "metadata": {
        "id": "bXcnyQRGBc5N"
      },
      "source": [
        "y_test = tensorflow.keras.utils.to_categorical(y_test, 10)\n"
      ],
      "execution_count": null,
      "outputs": []
    },
    {
      "cell_type": "code",
      "metadata": {
        "id": "ocuU-a31Bc8H"
      },
      "source": [
        "x_train = x_train.astype('float32')"
      ],
      "execution_count": null,
      "outputs": []
    },
    {
      "cell_type": "code",
      "metadata": {
        "id": "6ex64ByVBc-1"
      },
      "source": [
        "x_test = x_test.astype('float32')"
      ],
      "execution_count": null,
      "outputs": []
    },
    {
      "cell_type": "code",
      "metadata": {
        "id": "QB408Y7bRykW"
      },
      "source": [
        "x_train /= 255\n"
      ],
      "execution_count": null,
      "outputs": []
    },
    {
      "cell_type": "code",
      "metadata": {
        "id": "5r-7tkSJRytR"
      },
      "source": [
        "x_test /= 255\n"
      ],
      "execution_count": null,
      "outputs": []
    },
    {
      "cell_type": "code",
      "metadata": {
        "colab": {
          "base_uri": "https://localhost:8080/"
        },
        "id": "G2XUG9XyRyvt",
        "outputId": "e41d2106-551c-4294-bbd9-28bddcb98730"
      },
      "source": [
        "print('x_train shape:', x_train.shape)"
      ],
      "execution_count": null,
      "outputs": [
        {
          "output_type": "stream",
          "name": "stdout",
          "text": [
            "x_train shape: (60000, 28, 28, 1)\n"
          ]
        }
      ]
    },
    {
      "cell_type": "code",
      "metadata": {
        "colab": {
          "base_uri": "https://localhost:8080/"
        },
        "id": "pV4ybcUFRy0k",
        "outputId": "b270460b-03c8-4f85-ce36-a967e958f9d8"
      },
      "source": [
        "print(x_train.shape[0], 'train samples')"
      ],
      "execution_count": null,
      "outputs": [
        {
          "output_type": "stream",
          "name": "stdout",
          "text": [
            "60000 train samples\n"
          ]
        }
      ]
    },
    {
      "cell_type": "code",
      "metadata": {
        "colab": {
          "base_uri": "https://localhost:8080/"
        },
        "id": "4UKrF9NGRy3-",
        "outputId": "f1f944a3-0fd0-48e4-dd0f-1b8e072438e0"
      },
      "source": [
        "print(x_test.shape[0], 'test samples')"
      ],
      "execution_count": null,
      "outputs": [
        {
          "output_type": "stream",
          "name": "stdout",
          "text": [
            "10000 test samples\n"
          ]
        }
      ]
    },
    {
      "cell_type": "code",
      "metadata": {
        "id": "I3fTN_qjRy67"
      },
      "source": [
        "batch_size = 128\n"
      ],
      "execution_count": null,
      "outputs": []
    },
    {
      "cell_type": "code",
      "metadata": {
        "id": "cGIOOXW_Ry99"
      },
      "source": [
        "num_classes = 10\n"
      ],
      "execution_count": null,
      "outputs": []
    },
    {
      "cell_type": "code",
      "metadata": {
        "id": "7h4PxB0oRzAj"
      },
      "source": [
        "epochs = 10\n"
      ],
      "execution_count": null,
      "outputs": []
    },
    {
      "cell_type": "code",
      "metadata": {
        "id": "Fq_MoifhRzDi"
      },
      "source": [
        "model = Sequential()\n"
      ],
      "execution_count": null,
      "outputs": []
    },
    {
      "cell_type": "code",
      "metadata": {
        "id": "ofGnXvKMRzGd"
      },
      "source": [
        "model.add(Conv2D(32, kernel_size=(5, 5),activation='relu',input_shape=input_shape))\n"
      ],
      "execution_count": null,
      "outputs": []
    },
    {
      "cell_type": "code",
      "metadata": {
        "id": "2V1Is2tzRzJd"
      },
      "source": [
        "model.add(MaxPooling2D(pool_size=(2, 2)))\n"
      ],
      "execution_count": null,
      "outputs": []
    },
    {
      "cell_type": "code",
      "metadata": {
        "id": "oTduKEmxSOAn"
      },
      "source": [
        "model.add(Conv2D(64, (3, 3), activation='relu'))\n"
      ],
      "execution_count": null,
      "outputs": []
    },
    {
      "cell_type": "code",
      "metadata": {
        "id": "ACcGIi9sSOEP"
      },
      "source": [
        "model.add(MaxPooling2D(pool_size=(2, 2)))\n"
      ],
      "execution_count": null,
      "outputs": []
    },
    {
      "cell_type": "code",
      "metadata": {
        "id": "rtYv_cVzSOIs"
      },
      "source": [
        "model.add(Flatten())"
      ],
      "execution_count": null,
      "outputs": []
    },
    {
      "cell_type": "code",
      "metadata": {
        "id": "F4i0p7GDSOL9"
      },
      "source": [
        "model.add(Dense(128, activation='relu'))\n"
      ],
      "execution_count": null,
      "outputs": []
    },
    {
      "cell_type": "code",
      "metadata": {
        "id": "-cd8FeRcSOPf"
      },
      "source": [
        "model.add(Dropout(0.3))\n"
      ],
      "execution_count": null,
      "outputs": []
    },
    {
      "cell_type": "code",
      "metadata": {
        "id": "v2qLIoxeSOUx"
      },
      "source": [
        "model.add(Dense(64, activation='relu'))\n"
      ],
      "execution_count": null,
      "outputs": []
    },
    {
      "cell_type": "code",
      "metadata": {
        "id": "Fxxf8cMLScx4"
      },
      "source": [
        "model.add(Dropout(0.5))\n"
      ],
      "execution_count": null,
      "outputs": []
    },
    {
      "cell_type": "code",
      "metadata": {
        "id": "YapGjYpNSc0O"
      },
      "source": [
        "model.add(Dense(num_classes, activation='softmax'))\n"
      ],
      "execution_count": null,
      "outputs": []
    },
    {
      "cell_type": "code",
      "metadata": {
        "id": "X5EuiKA0Sc7t"
      },
      "source": [
        "model.compile(loss=tensorflow.keras.losses.categorical_crossentropy,optimizer=tensorflow.keras.optimizers.Adadelta(),metrics=['accuracy'])\n"
      ],
      "execution_count": null,
      "outputs": []
    },
    {
      "cell_type": "code",
      "metadata": {
        "colab": {
          "base_uri": "https://localhost:8080/"
        },
        "id": "4SjX83aySc-r",
        "outputId": "42a7ab27-ce59-4d33-c5b1-42a097a38419"
      },
      "source": [
        "hist = model.fit(x_train, y_train,batch_size=batch_size,epochs=epochs,verbose=1,validation_data=(x_test, y_test))\n"
      ],
      "execution_count": null,
      "outputs": [
        {
          "output_type": "stream",
          "name": "stdout",
          "text": [
            "Epoch 1/10\n",
            "469/469 [==============================] - 51s 107ms/step - loss: 2.2920 - accuracy: 0.1329 - val_loss: 2.2770 - val_accuracy: 0.1961\n",
            "Epoch 2/10\n",
            "469/469 [==============================] - 50s 106ms/step - loss: 2.2772 - accuracy: 0.1619 - val_loss: 2.2596 - val_accuracy: 0.2707\n",
            "Epoch 3/10\n",
            "469/469 [==============================] - 50s 107ms/step - loss: 2.2620 - accuracy: 0.1900 - val_loss: 2.2415 - val_accuracy: 0.3327\n",
            "Epoch 4/10\n",
            "469/469 [==============================] - 50s 107ms/step - loss: 2.2464 - accuracy: 0.2177 - val_loss: 2.2227 - val_accuracy: 0.3838\n",
            "Epoch 5/10\n",
            "469/469 [==============================] - 50s 107ms/step - loss: 2.2300 - accuracy: 0.2405 - val_loss: 2.2028 - val_accuracy: 0.4208\n",
            "Epoch 6/10\n",
            "469/469 [==============================] - 50s 106ms/step - loss: 2.2129 - accuracy: 0.2578 - val_loss: 2.1815 - val_accuracy: 0.4430\n",
            "Epoch 7/10\n",
            "469/469 [==============================] - 50s 107ms/step - loss: 2.1940 - accuracy: 0.2731 - val_loss: 2.1583 - val_accuracy: 0.4582\n",
            "Epoch 8/10\n",
            "469/469 [==============================] - 50s 107ms/step - loss: 2.1724 - accuracy: 0.2891 - val_loss: 2.1321 - val_accuracy: 0.4750\n",
            "Epoch 9/10\n",
            "469/469 [==============================] - 50s 107ms/step - loss: 2.1499 - accuracy: 0.3033 - val_loss: 2.1028 - val_accuracy: 0.4906\n",
            "Epoch 10/10\n",
            "469/469 [==============================] - 50s 106ms/step - loss: 2.1247 - accuracy: 0.3136 - val_loss: 2.0701 - val_accuracy: 0.5103\n"
          ]
        }
      ]
    },
    {
      "cell_type": "code",
      "metadata": {
        "colab": {
          "base_uri": "https://localhost:8080/"
        },
        "id": "rqA4h3-6SdBq",
        "outputId": "0ca8dae9-1067-49af-d70a-618eb3241bf3"
      },
      "source": [
        "print(\"The model has successfully trained\")\n"
      ],
      "execution_count": null,
      "outputs": [
        {
          "output_type": "stream",
          "name": "stdout",
          "text": [
            "The model has successfully trained\n"
          ]
        }
      ]
    },
    {
      "cell_type": "code",
      "metadata": {
        "id": "cYEnzeuwSdHf"
      },
      "source": [
        "score = model.evaluate(x_test, y_test, verbose=0)\n"
      ],
      "execution_count": null,
      "outputs": []
    },
    {
      "cell_type": "code",
      "metadata": {
        "colab": {
          "base_uri": "https://localhost:8080/"
        },
        "id": "ZYFtEZeySdLz",
        "outputId": "3a35e41f-975d-4066-8bcf-c684708e2509"
      },
      "source": [
        "print('Test loss:', score[0])\n"
      ],
      "execution_count": null,
      "outputs": [
        {
          "output_type": "stream",
          "name": "stdout",
          "text": [
            "Test loss: 2.070119619369507\n"
          ]
        }
      ]
    },
    {
      "cell_type": "code",
      "metadata": {
        "colab": {
          "base_uri": "https://localhost:8080/"
        },
        "id": "0evPAhY9SdO6",
        "outputId": "2f16481e-c1a0-44e9-c8e7-3b646de840b2"
      },
      "source": [
        "print('Test accuracy:', score[1])\n"
      ],
      "execution_count": null,
      "outputs": [
        {
          "output_type": "stream",
          "name": "stdout",
          "text": [
            "Test accuracy: 0.5102999806404114\n"
          ]
        }
      ]
    },
    {
      "cell_type": "code",
      "metadata": {
        "id": "Ulo0aZGySdRv"
      },
      "source": [
        "model.save('mnist.h5')"
      ],
      "execution_count": null,
      "outputs": []
    },
    {
      "cell_type": "code",
      "metadata": {
        "colab": {
          "base_uri": "https://localhost:8080/"
        },
        "id": "8MgqoOqySdUy",
        "outputId": "e107b509-71b1-43ae-903b-27580568b321"
      },
      "source": [
        "print(\"Saving the model as mnist.h5\")"
      ],
      "execution_count": null,
      "outputs": [
        {
          "output_type": "stream",
          "name": "stdout",
          "text": [
            "Saving the model as mnist.h5\n"
          ]
        }
      ]
    }
  ]
}